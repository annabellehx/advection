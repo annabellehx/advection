{
 "cells": [
  {
   "cell_type": "code",
   "execution_count": null,
   "id": "05b253f3-a7ef-4914-8621-f1c87ef82eaa",
   "metadata": {},
   "outputs": [],
   "source": [
    "import numpy as np\n",
    "import matplotlib.pyplot as plt \n",
    "from matplotlib import animation\n",
    "from scipy.interpolate import make_interp_spline, BSpline"
   ]
  },
  {
   "cell_type": "code",
   "execution_count": null,
   "id": "518b504f",
   "metadata": {},
   "outputs": [],
   "source": [
    "xnew = np.linspace(0, 17, 20)  \n",
    "openmpi1 = make_interp_spline([1,2,4,9,16], [234.52 / 234.52, 234.52 / 132.57, 234.52 / 69.68, 234.52 / 23.60, 234.52 / 15.68], k = 2)(xnew)\n",
    "openmp = make_interp_spline([1,2,4,9,16], [220.81 / 220.81, 220.81 / 144.45, 220.81 / 60.11, 220.81 / 30.08, 220.81 / 25.56], k = 2)(xnew)\n",
    "openmpi16 = make_interp_spline([1,2,4,9,16], [225.68 / 225.68, 225.68 / 113.74, 225.68 / 59.52, 225.68 / 26.66, 225.68 / 15.60], k = 2)(xnew)\n",
    "\n",
    "plt.figure(figsize = (20,5)) \n",
    "\n",
    "plt.subplot(1,3,1)\n",
    "plt.title(\"MPI-Only Model Performance with N = 4000\", size = 15, y = 1.05)\n",
    "plt.xlabel(\"Number of Nodes\", size = 12)\n",
    "plt.ylabel(\"Parallel Speedup\", size = 12)\n",
    "plt.plot(xnew, openmpi1, 'b-', label = \"OpenMPI-Only with 1 Core Per Node\")\n",
    "plt.scatter([1,2,4,9,16], [234.52 / 234.52, 234.52 / 132.57, 234.52 / 69.68, 234.52 / 23.60, 234.52 / 15.68], c = 'b')\n",
    "plt.xticks(np.arange(0,21,1))\n",
    "plt.yticks(np.arange(0,22,2))\n",
    "plt.xlim(0,17)\n",
    "plt.ylim(0,20)\n",
    "plt.legend()\n",
    "\n",
    "plt.subplot(1,3,2)\n",
    "plt.title(\"OpenMP-Only Model Performance with N = 4000\", size = 15, y = 1.05)\n",
    "plt.xlabel(\"Number of Cores\", size = 12)\n",
    "plt.ylabel(\"Parallel Speedup\", size = 12)\n",
    "plt.plot(xnew, openmp, 'r-', label = \"OpenMP-Only with 1 Node\")\n",
    "plt.scatter([1,2,4,9,16], [220.81 / 220.81, 220.81 / 144.45, 220.81 / 60.11, 220.81 / 30.08, 220.81 / 25.56], c = 'r')\n",
    "plt.xticks(np.arange(0,21,1))\n",
    "plt.yticks(np.arange(0,22,2))\n",
    "plt.xlim(0,17)\n",
    "plt.ylim(0,20)\n",
    "plt.legend()\n",
    "\n",
    "plt.subplot(1,3,3)\n",
    "plt.title(\"Hybrid Model Performance with N = 4000\", size = 15, y = 1.05)\n",
    "plt.xlabel(\"Number of Nodes\", size = 12)\n",
    "plt.ylabel(\"Parallel Speedup\", size = 12)\n",
    "plt.plot(xnew, openmpi16, 'g-', label = \"Hybrid with 1 MPI Rank and 16 Cores Per Node\")\n",
    "plt.scatter([1,2,4,9,16], [225.68 / 225.68, 225.68 / 113.74, 225.68 / 59.52, 225.68 / 26.66, 225.68 / 15.60], c = 'g')\n",
    "plt.xticks(np.arange(0,21,1))\n",
    "plt.yticks(np.arange(0,22,2))\n",
    "plt.xlim(0,17)\n",
    "plt.ylim(0,20)\n",
    "plt.legend()\n",
    "\n",
    "plt.show()"
   ]
  },
  {
   "cell_type": "code",
   "execution_count": null,
   "id": "8322ba06",
   "metadata": {},
   "outputs": [],
   "source": [
    "def plot_matrix(matrix, N):\n",
    "    assert N == np.sqrt(matrix[0].shape[0])\n",
    "    plt.figure(figsize = (20,10)) \n",
    "    plt.suptitle(\"Distributed Memory Parallel Lax with N = \" + str(N) + \" and 4 Nodes and 1 Core Per Node\", size = 20, y = 0.825)\n",
    "\n",
    "    plt.subplot(1,3,1)\n",
    "    plt.xlim(0,N)\n",
    "    plt.ylim(0,N)\n",
    "    plt.xticks(np.arange(0,N + N/10,N/10), np.arange(-5,6,1) / 10)\n",
    "    plt.yticks(np.arange(0,N + N/10,N/10), np.arange(-5,6,1) / 10)\n",
    "    plt.imshow(matrix[0].reshape((N,N)).T, cmap = 'gnuplot2')\n",
    "    plt.title(\"Condition at Time = 0.0\", size = 15)\n",
    "    plt.colorbar(fraction = 0.046, pad = 0.05)\n",
    "    plt.clim(0,1)\n",
    "\n",
    "    plt.subplot(1,3,2)\n",
    "    plt.xlim(0,N)\n",
    "    plt.ylim(0,N)\n",
    "    plt.xticks(np.arange(0,N + N/10,N/10), np.arange(-5,6,1) / 10)\n",
    "    plt.yticks(np.arange(0,N + N/10,N/10), np.arange(-5,6,1) / 10)\n",
    "    plt.imshow(matrix[1].reshape((N,N)).T, cmap = 'gnuplot2')\n",
    "    plt.title(\"Condition at Time = 0.5\", size = 15)\n",
    "    plt.colorbar(fraction = 0.046, pad = 0.05)\n",
    "    plt.clim(0,1)\n",
    "\n",
    "    plt.subplot(1,3,3)\n",
    "    plt.xlim(0,N)\n",
    "    plt.ylim(0,N)\n",
    "    plt.xticks(np.arange(0,N + N/10,N/10), np.arange(-5,6,1) / 10)\n",
    "    plt.yticks(np.arange(0,N + N/10,N/10), np.arange(-5,6,1) / 10)\n",
    "    plt.imshow(matrix[2].reshape((N,N)).T, cmap = 'gnuplot2')\n",
    "    plt.title(\"Condition at Time = 1.0\", size = 15)\n",
    "    plt.colorbar(fraction = 0.046, pad = 0.05)\n",
    "    plt.clim(0,1)\n",
    "\n",
    "    plt.show()"
   ]
  },
  {
   "cell_type": "code",
   "execution_count": null,
   "id": "ae8920d3",
   "metadata": {},
   "outputs": [],
   "source": [
    "matrix_lax = np.loadtxt(\"matrix.txt\")\n",
    "plot_matrix(matrix_lax, 4000)"
   ]
  },
  {
   "cell_type": "code",
   "execution_count": null,
   "id": "8d24cbd3",
   "metadata": {},
   "outputs": [],
   "source": [
    "matrix_shared = np.loadtxt(\"matrix.txt\")\n",
    "plot_matrix(matrix_shared, 4000)"
   ]
  },
  {
   "cell_type": "code",
   "execution_count": null,
   "id": "4feb50bc-b303-4075-b81a-f823eb7606de",
   "metadata": {},
   "outputs": [],
   "source": [
    "matrix_distributed = np.loadtxt(\"matrix.txt\")\n",
    "plot_matrix(matrix_distributed, 4000)"
   ]
  },
  {
   "cell_type": "code",
   "execution_count": null,
   "id": "f49bc628-6e2c-4f83-bae8-376f55a828d7",
   "metadata": {},
   "outputs": [],
   "source": []
  },
  {
   "cell_type": "code",
   "execution_count": null,
   "id": "4f5d1fa5-9989-49d6-ba51-2b22aa9ba1e1",
   "metadata": {},
   "outputs": [],
   "source": []
  },
  {
   "cell_type": "code",
   "execution_count": null,
   "id": "44fce39b-1f41-4238-a0aa-56059c99f9fc",
   "metadata": {},
   "outputs": [],
   "source": []
  },
  {
   "cell_type": "code",
   "execution_count": null,
   "id": "80c4d772-7035-47b2-a131-6527e79e4d71",
   "metadata": {},
   "outputs": [],
   "source": []
  },
  {
   "cell_type": "code",
   "execution_count": null,
   "id": "e8c86c57-049c-4308-ba16-7e167cd1f637",
   "metadata": {},
   "outputs": [],
   "source": []
  },
  {
   "cell_type": "code",
   "execution_count": null,
   "id": "ee327007-63fd-4cf3-a396-be0465947045",
   "metadata": {},
   "outputs": [],
   "source": [
    "matrix_ani = np.loadtxt(\"matrix_ani.txt\")\n",
    "nt = np.shape(matrix_ani)[0]\n",
    "N = int(np.sqrt(np.shape(matrix_ani)[1]))"
   ]
  },
  {
   "cell_type": "code",
   "execution_count": null,
   "id": "9ce991cf",
   "metadata": {},
   "outputs": [],
   "source": [
    "# Create a figure and axis\n",
    "fig = plt.figure(figsize = (10,10))\n",
    "ax = plt.axes()\n",
    "ax.set_ylim(0,N)\n",
    "ax.set_xlim(0,N)\n",
    "sc = ax.imshow(matrix_ani[0].reshape((N,N)).T, cmap = 'gnuplot2')\n",
    "\n",
    "# Add a colorbar\n",
    "colorbar = plt.colorbar(sc, fraction = 0.046, pad = 0.05)\n",
    "\n",
    "# Function to update the scatter plot and colorbar\n",
    "def update(i):\n",
    "    sc.set_array(matrix_ani[i].reshape((N,N)).T)\n",
    "    colorbar.update_normal(sc)\n",
    "\n",
    "# Create animation\n",
    "ani = animation.FuncAnimation(fig, update, frames = nt)\n",
    "ani.save('animation.gif', writer='PillowWriter', fps=30)"
   ]
  }
 ],
 "metadata": {
  "kernelspec": {
   "display_name": "Python [conda env:base] *",
   "language": "python",
   "name": "conda-base-py"
  },
  "language_info": {
   "codemirror_mode": {
    "name": "ipython",
    "version": 3
   },
   "file_extension": ".py",
   "mimetype": "text/x-python",
   "name": "python",
   "nbconvert_exporter": "python",
   "pygments_lexer": "ipython3",
   "version": "3.12.7"
  }
 },
 "nbformat": 4,
 "nbformat_minor": 5
}
